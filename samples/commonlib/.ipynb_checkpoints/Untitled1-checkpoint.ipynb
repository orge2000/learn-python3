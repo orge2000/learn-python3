{
 "cells": [
  {
   "cell_type": "code",
   "execution_count": null,
   "metadata": {},
   "outputs": [],
   "source": [
    "import hashlib\n",
    "\n",
    "User_List = []\n",
    "\n",
    "def get_md5(data):\n",
    "    md5=hashlib.md5()\n",
    "    md5.update(data.encode('utf-8'))\n",
    "    return md5.hexdigest()\n",
    "\n",
    "def register():\n",
    "    print('***************用户注册***************')\n",
    "    print(User_List)\n",
    "    while True:\n",
    "        user=input('请输入用户名：')\n",
    "        \n",
    "        if user=='N':\n",
    "            return \n",
    "        \n",
    "        if len(User_List)<=0:\n",
    "            print(len(User_List))\n",
    "            password=input('请输入密码：')\n",
    "            tmp = {'username':user,'password':get_md5(password)}        \n",
    "            User_List.append(tmp)\n",
    "        else:            \n",
    "            for usr in User_List:\n",
    "                if usr['username']==user:\n",
    "                    usriteral=True            \n",
    "            if usriteral:\n",
    "                print(('***************用户名重复，请重新输入***************'))\n",
    "            else:\n",
    "                password=input('请输入密码：')\n",
    "                tmp = {'username':user,'password':get_md5(password)}        \n",
    "                User_List.append(tmp)\n",
    "                                \n",
    "        \n",
    "        \n",
    "        \n",
    "def login():\n",
    "    print('***************用户登陆***************')\n",
    "    usr=input('请输入用户名：')\n",
    "    pwd=input('请输入密码：')\n",
    "    \n",
    "    for item in User_List:\n",
    "        if item['username']==usr and item['password']==get_md5(pwd):\n",
    "            return True\n",
    "    return False\n",
    "\n",
    "register()\n",
    "\n",
    "result = login()\n",
    "\n",
    "if result:\n",
    "    print('登陆成功')\n",
    "else:\n",
    "    print('登陆失败')\n",
    "        \n"
   ]
  },
  {
   "cell_type": "code",
   "execution_count": null,
   "metadata": {},
   "outputs": [],
   "source": []
  }
 ],
 "metadata": {
  "kernelspec": {
   "display_name": "Python 3",
   "language": "python",
   "name": "python3"
  },
  "language_info": {
   "codemirror_mode": {
    "name": "ipython",
    "version": 3
   },
   "file_extension": ".py",
   "mimetype": "text/x-python",
   "name": "python",
   "nbconvert_exporter": "python",
   "pygments_lexer": "ipython3",
   "version": "3.8.3"
  }
 },
 "nbformat": 4,
 "nbformat_minor": 4
}
